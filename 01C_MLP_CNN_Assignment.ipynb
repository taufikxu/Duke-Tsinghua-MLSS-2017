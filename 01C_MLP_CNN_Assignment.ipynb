{
 "cells": [
  {
   "cell_type": "markdown",
   "metadata": {},
   "source": [
    "# TensorFlow Assignment: Multilayer Perceptron (MLP) and Convolutional Neural Network (CNN)"
   ]
  },
  {
   "cell_type": "markdown",
   "metadata": {},
   "source": [
    "**[Duke Community Standard](http://integrity.duke.edu/standard.html): By typing your name below, you are certifying that you have adhered to the Duke Community Standard in completing this assignment.**\n",
    "\n",
    "Name: [Kun Xu（许堃）]"
   ]
  },
  {
   "cell_type": "markdown",
   "metadata": {},
   "source": [
    "Now that you've run through a simple logistic regression model on MNIST, let's see if we can do better (Hint: we can). For this assignment, you'll build a multilayer perceptron (MLP) and a convolutional neural network (CNN), two popular types of neural networks, and compare their performance. Some potentially useful code:"
   ]
  },
  {
   "cell_type": "code",
   "execution_count": 1,
   "metadata": {},
   "outputs": [
    {
     "name": "stdout",
     "output_type": "stream",
     "text": [
      "Extracting MNIST_data/train-images-idx3-ubyte.gz\n",
      "Extracting MNIST_data/train-labels-idx1-ubyte.gz\n",
      "Extracting MNIST_data/t10k-images-idx3-ubyte.gz\n",
      "Extracting MNIST_data/t10k-labels-idx1-ubyte.gz\n"
     ]
    }
   ],
   "source": [
    "import tensorflow as tf\n",
    "from tensorflow.examples.tutorials.mnist import input_data\n",
    "\n",
    "# Import data\n",
    "mnist = input_data.read_data_sets(\"MNIST_data/\", one_hot=True)"
   ]
  },
  {
   "cell_type": "code",
   "execution_count": 2,
   "metadata": {
    "collapsed": true
   },
   "outputs": [],
   "source": [
    "# Helper functions for creating weight variables\n",
    "def weight_variable(shape):\n",
    "    \"\"\"weight_variable generates a weight variable of a given shape.\"\"\"\n",
    "    initial = tf.truncated_normal(shape, stddev=0.1)\n",
    "    return tf.Variable(initial)\n",
    "\n",
    "def bias_variable(shape):\n",
    "    \"\"\"bias_variable generates a bias variable of a given shape.\"\"\"\n",
    "    initial = tf.constant(0.1, shape=shape)\n",
    "    return tf.Variable(initial)\n",
    "\n",
    "# Tensorflow Functions that might also be of interest:\n",
    "# tf.nn.sigmoid()\n",
    "# tf.nn.relu()"
   ]
  },
  {
   "cell_type": "markdown",
   "metadata": {},
   "source": [
    "### Multilayer Perceptron\n",
    "\n",
    "Build a multilayer perceptron for MNIST digit classfication. Feel free to play around with the model architecture and see how the training time/performance changes, but to begin, try the following:\n",
    "\n",
    "Image -> fully connected (500 hidden units) -> nonlinearity (Sigmoid/ReLU) -> fully connected (10 hidden units) -> softmax\n",
    "\n",
    "Skeleton framework for you to fill in (Code you need to provide is marked by `###`):"
   ]
  },
  {
   "cell_type": "code",
   "execution_count": 3,
   "metadata": {},
   "outputs": [
    {
     "name": "stdout",
     "output_type": "stream",
     "text": [
      "step 0, validation accuracy 0.092\n",
      "step 0, train accuracy 0.085\n",
      "step 500, validation accuracy 0.897\n",
      "step 500, train accuracy 0.896\n",
      "step 1000, validation accuracy 0.902\n",
      "step 1000, train accuracy 0.903\n",
      "step 1500, validation accuracy 0.915\n",
      "step 1500, train accuracy 0.918\n",
      "step 2000, validation accuracy 0.917\n",
      "step 2000, train accuracy 0.921\n",
      "step 2500, validation accuracy 0.932\n",
      "step 2500, train accuracy 0.928\n",
      "step 3000, validation accuracy 0.935\n",
      "step 3000, train accuracy 0.918\n",
      "step 3500, validation accuracy 0.941\n",
      "step 3500, train accuracy 0.923\n",
      "step 4000, validation accuracy 0.942\n",
      "step 4000, train accuracy 0.942\n",
      "step 4500, validation accuracy 0.934\n",
      "step 4500, train accuracy 0.936\n",
      "step 5000, validation accuracy 0.953\n",
      "step 5000, train accuracy 0.93\n",
      "step 5500, validation accuracy 0.942\n",
      "step 5500, train accuracy 0.957\n",
      "step 6000, validation accuracy 0.956\n",
      "step 6000, train accuracy 0.948\n",
      "step 6500, validation accuracy 0.952\n",
      "step 6500, train accuracy 0.945\n",
      "step 7000, validation accuracy 0.948\n",
      "step 7000, train accuracy 0.958\n",
      "step 7500, validation accuracy 0.974\n",
      "step 7500, train accuracy 0.955\n",
      "test accuracy 0.9587\n"
     ]
    }
   ],
   "source": [
    "# Model Inputs\n",
    "x = tf.placeholder(tf.float32, [None, 784])\n",
    "y_ =  tf.placeholder(tf.float32, [None, 10])\n",
    "# Define the graph\n",
    "\n",
    "activation = tf.nn.sigmoid\n",
    "### Create your MLP here##\n",
    "w1, b1 = weight_variable([784, 500]), bias_variable([1, 500])\n",
    "ly_x = tf.matmul(x, w1) + b1\n",
    "ly_x = activation(ly_x)\n",
    "\n",
    "w2, b2 = weight_variable([500, 10]), bias_variable([1, 10])\n",
    "y_mlp = tf.matmul(ly_x, w2) + b2\n",
    "### Make sure to name your MLP output as y_mlp ###\n",
    "\n",
    "\n",
    "\n",
    "\n",
    "# Loss \n",
    "cross_entropy = tf.reduce_mean(tf.nn.softmax_cross_entropy_with_logits(labels=y_, logits=y_mlp))\n",
    "\n",
    "# Optimizer\n",
    "train_step = tf.train.GradientDescentOptimizer(0.2).minimize(cross_entropy, var_list=[w1, b1, w2, b2])\n",
    "# train_step = tf.train.MomentumOptimizer(0.1, 0.9).minimize(cross_entropy, var_list=[w1, b1, w2, b2])\n",
    "\n",
    "# Evaluation\n",
    "correct_prediction = tf.equal(tf.argmax(y_mlp, 1), tf.argmax(y_, 1))\n",
    "accuracy = tf.reduce_mean(tf.cast(correct_prediction, tf.float32))\n",
    "\n",
    "with tf.Session() as sess:\n",
    "    # Initialize all variables\n",
    "    sess.run(tf.global_variables_initializer())\n",
    "    \n",
    "    # Training regimen\n",
    "    for i in range(8000):\n",
    "        # train_x, train_y = mnist.train.next_batch(100)\n",
    "        # feed_dict = {x: train_x, y_: train_y}\n",
    "        # sess.run([train_step], feed_dict=feed_dict)\n",
    "        \n",
    "        # Validate every 250th batch\n",
    "        if i % 500 == 0:\n",
    "            validation_accuracy = 0\n",
    "            for v in range(10):\n",
    "                batch = mnist.validation.next_batch(100)\n",
    "                validation_accuracy += (1./10) * accuracy.eval(feed_dict={x: batch[0], y_: batch[1]})\n",
    "            print('step %d, validation accuracy %g' % (i, validation_accuracy))\n",
    "            validation_accuracy=0\n",
    "            for v in range(10):\n",
    "                batch = mnist.train.next_batch(100)\n",
    "                validation_accuracy += (1./10) * accuracy.eval(feed_dict={x: batch[0], y_: batch[1]})\n",
    "            print('step %d, train accuracy %g' % (i, validation_accuracy))\n",
    "        \n",
    "        # Train    \n",
    "        batch = mnist.train.next_batch(50)\n",
    "        train_step.run(feed_dict={x: batch[0], y_: batch[1]})\n",
    "        # print(cross_entropy.eval(feed_dict={x: batch[0], y_: batch[1]}))\n",
    "\n",
    "    print('test accuracy %g' % accuracy.eval(feed_dict={x: mnist.test.images, y_: mnist.test.labels}))"
   ]
  },
  {
   "cell_type": "markdown",
   "metadata": {},
   "source": [
    "#### Comparison\n",
    "\n",
    "How do the sigmoid and rectified linear unit (ReLU) compare?"
   ]
  },
  {
   "cell_type": "markdown",
   "metadata": {},
   "source": [
    "***\n",
    "\n",
    "Overall, the relu network gives a better convergence speed and the final performance is better. It indicates that the network with relu activation function is more easy to train because the gradient will not vanish. \n",
    "\n",
    "This conclusion is true when I change the optimizer to momentum optimizer. Hence, the relu activation can significantly avoid the gradient vanishing and boost the performance of neural networks.\n",
    "\n",
    "Besides, if I change the total iteration into 8k, the network with sigmoid still cannot model the training data, i.e., it's accuracy on training data is not 100%. But the relu network can achieve better than 99% accuracy. It also indicates that the relu network is more easy to train and have a more powerful capacity to model data.\n",
    "\n",
    "***"
   ]
  },
  {
   "cell_type": "markdown",
   "metadata": {},
   "source": [
    "### Convolutional Neural Network\n",
    "\n",
    "Build a simple 2-layer CNN for MNIST digit classfication. Feel free to play around with the model architecture and see how the training time/performance changes, but to begin, try the following:\n",
    "\n",
    "Image -> CNN (32 5x5 filters) -> nonlinearity (ReLU) ->  (2x2 max pool) -> CNN (64 5x5 filters) -> nonlinearity (ReLU) -> (2x2 max pool) -> fully connected (1024 hidden units) -> nonlinearity (ReLU) -> fully connected (10 hidden units) -> softmax\n",
    "\n",
    "Some additional functions that you might find helpful:"
   ]
  },
  {
   "cell_type": "code",
   "execution_count": 4,
   "metadata": {
    "collapsed": true
   },
   "outputs": [],
   "source": [
    "# Convolutional neural network functions\n",
    "def conv2d(x, W):\n",
    "    \"\"\"conv2d returns a 2d convolution layer with full stride.\"\"\"\n",
    "    return tf.nn.conv2d(x, W, strides=[1, 1, 1, 1], padding='SAME')\n",
    "\n",
    "def max_pool_2x2(x):\n",
    "    \"\"\"max_pool_2x2 downsamples a feature map by 2X.\"\"\"\n",
    "    return tf.nn.max_pool(x, ksize=[1, 2, 2, 1], strides=[1, 2, 2, 1], padding='SAME')\n",
    "\n",
    "# Tensorflow Function that might also be of interest:\n",
    "# tf.reshape()"
   ]
  },
  {
   "cell_type": "markdown",
   "metadata": {},
   "source": [
    "Skeleton framework for you to fill in (Code you need to provide is marked by `###`):\n",
    "\n",
    "*Hint: Convolutional Neural Networks are spatial models. You'll want to transform the flattened MNIST vectors into images for the CNN. Similarly, you might want to flatten it again sometime before you do a softmax. You also might want to look into the  [conv2d() documentation](https://www.tensorflow.org/api_docs/python/tf/nn/conv2d) to see what shape kernel/filter it's expecting.*"
   ]
  },
  {
   "cell_type": "code",
   "execution_count": 6,
   "metadata": {},
   "outputs": [
    {
     "name": "stdout",
     "output_type": "stream",
     "text": [
      "step 0, validation accuracy 0.104\n",
      "step 250, validation accuracy 0.954\n",
      "step 500, validation accuracy 0.95\n",
      "step 750, validation accuracy 0.946\n",
      "step 1000, validation accuracy 0.97\n",
      "step 1250, validation accuracy 0.966\n",
      "step 1500, validation accuracy 0.98\n",
      "step 1750, validation accuracy 0.976\n",
      "step 2000, validation accuracy 0.992\n",
      "step 2250, validation accuracy 0.986\n",
      "step 2500, validation accuracy 0.976\n",
      "step 2750, validation accuracy 0.988\n",
      "step 3000, validation accuracy 0.986\n",
      "step 3250, validation accuracy 0.978\n",
      "step 3500, validation accuracy 0.978\n",
      "step 3750, validation accuracy 0.972\n",
      "step 4000, validation accuracy 0.982\n",
      "step 4250, validation accuracy 0.99\n",
      "step 4500, validation accuracy 0.992\n",
      "step 4750, validation accuracy 0.988\n",
      "step 5000, validation accuracy 0.994\n",
      "step 5250, validation accuracy 0.996\n",
      "step 5500, validation accuracy 0.992\n",
      "step 5750, validation accuracy 0.988\n",
      "step 6000, validation accuracy 0.982\n",
      "step 6250, validation accuracy 0.994\n",
      "step 6500, validation accuracy 0.99\n",
      "step 6750, validation accuracy 0.982\n",
      "step 7000, validation accuracy 0.988\n",
      "step 7250, validation accuracy 0.99\n",
      "step 7500, validation accuracy 0.986\n",
      "step 7750, validation accuracy 0.984\n",
      "step 8000, validation accuracy 1\n",
      "step 8250, validation accuracy 0.988\n",
      "step 8500, validation accuracy 0.986\n",
      "step 8750, validation accuracy 0.99\n",
      "step 9000, validation accuracy 0.99\n",
      "step 9250, validation accuracy 0.988\n",
      "step 9500, validation accuracy 0.992\n",
      "step 9750, validation accuracy 0.988\n",
      "test accuracy 0.9866\n"
     ]
    }
   ],
   "source": [
    "# Model Inputs\n",
    "x = tf.placeholder(tf.float32, [None, 784])\n",
    "y_ = tf.placeholder(tf.float32, [None, 10])\n",
    "\n",
    "# Define the graph\n",
    "ly_x = tf.reshape(x, [-1, 28, 28, 1])\n",
    "w1, b1 = weight_variable([5, 5, 1, 32]), bias_variable([1, 1, 1, 32])\n",
    "ly_x = conv2d(ly_x, w1) + b1\n",
    "ly_x = tf.nn.relu(ly_x)\n",
    "ly_x = max_pool_2x2(ly_x)\n",
    "\n",
    "w2, b2 = weight_variable([5, 5, 32, 64]), bias_variable([1, 1, 1, 64])\n",
    "ly_x = conv2d(ly_x, w2) + b2\n",
    "ly_x = tf.nn.relu(ly_x)\n",
    "ly_x = max_pool_2x2(ly_x)\n",
    "\n",
    "ly_x = tf.reshape(ly_x, [-1, 7*7*64])\n",
    "w3, b3 = weight_variable([7*7*64, 1024]), bias_variable([1, 1024])\n",
    "ly_x = tf.matmul(ly_x, w3) + b3\n",
    "ly_x = tf.nn.relu(ly_x)\n",
    "\n",
    "w4, b4 = weight_variable([1024, 10]), bias_variable([1, 10])\n",
    "ly_x = tf.matmul(ly_x, w4) + b4\n",
    "\n",
    "y_conv = ly_x\n",
    "\n",
    "### Create your CNN here##\n",
    "### Make sure to name your CNN output as y_conv ###\n",
    "\n",
    "\n",
    "\n",
    "# Loss \n",
    "cross_entropy = tf.reduce_mean(tf.nn.softmax_cross_entropy_with_logits(labels=y_, logits=y_conv))\n",
    "\n",
    "# Optimizer\n",
    "train_step = tf.train.AdamOptimizer(1e-4).minimize(cross_entropy)\n",
    "\n",
    "# Evaluation\n",
    "correct_prediction = tf.equal(tf.argmax(y_conv, 1), tf.argmax(y_, 1))\n",
    "accuracy = tf.reduce_mean(tf.cast(correct_prediction, tf.float32))\n",
    "\n",
    "with tf.Session() as sess:\n",
    "    # Initialize all variables\n",
    "    sess.run(tf.global_variables_initializer())\n",
    "    \n",
    "    # Training regimen\n",
    "    for i in range(10000):\n",
    "        # Validate every 250th batch\n",
    "        if i % 250 == 0:\n",
    "            validation_accuracy = 0\n",
    "            for v in range(10):\n",
    "                batch = mnist.validation.next_batch(50)\n",
    "                validation_accuracy += (1./10) * accuracy.eval(feed_dict={x: batch[0], y_: batch[1]})\n",
    "            print('step %d, validation accuracy %g' % (i, validation_accuracy))\n",
    "        \n",
    "        # Train    \n",
    "        batch = mnist.train.next_batch(50)\n",
    "        train_step.run(feed_dict={x: batch[0], y_: batch[1]})\n",
    "\n",
    "    print('test accuracy %g' % accuracy.eval(feed_dict={x: mnist.test.images, y_: mnist.test.labels}))"
   ]
  },
  {
   "cell_type": "markdown",
   "metadata": {},
   "source": [
    "Some differences from the logistic regression model to note:\n",
    "\n",
    "- The CNN model might take a while to train. Depending on your machine, you might expect this to take up to half an hour. If you see your validation performance start to plateau, you can kill the training.\n",
    "\n",
    "- The logistic regression model we used previously was pretty basic, and as such, we were able to get away with using the GradientDescentOptimizer, which performs implements the gradient descent algorithm. For more difficult optimization spaces (such as the ones deep networks pose), we might want to use more sophisticated algorithms. Prof David Carlson has a lecture on this later.\n",
    "    \n",
    "- Because of the larger size of our network, notice that our minibatch size has shrunk.\n",
    "    \n",
    "- We've added a validation step every 250 minibatches. This let's us see how our model is doing during the training process, rather than sit around twiddling our thumbs and hoping for the best when training finishes. This becomes especially significant as training regimens start approaching days and weeks in length. Normally, we validate on the entire validation set, but for the sake of time we'll just stick to 10 validation minibatches (500 images) for this homework assignment."
   ]
  },
  {
   "cell_type": "markdown",
   "metadata": {},
   "source": [
    "#### Comparison\n",
    "\n",
    "How do the MLP and CNN compare in accuracy? Training time? Why would you use one vs the other? Is there a problem you see with MLPs when applied to other image datasets?"
   ]
  },
  {
   "cell_type": "markdown",
   "metadata": {},
   "source": [
    "***\n",
    "\n",
    "The performance of CNN is much better than the MLP, and it takes almost the same training time (On Titan X, compared to 8K iterations for MLP). However, the CNN contains much more parameters and directly compare these two models is not fair.\n",
    "\n",
    "CNN is good at extracting visual features and gives a really good performance on the image classification tasks. So for visual task, CNN will be a really good choice. But for other networks, such as RNN or LSTMs, most of them only use fully connected layers rather than convolution layers. So CNN has more constrains on the application fields, but in visual task, it will be my first choice.\n",
    "\n",
    "For the more complicated dataset compared to MNIST, such as CIFAR10 or IMAGENET, the MLP network's performance is far from the CNN, because it cannot share parameters across the feature map.\n",
    "\n",
    "***"
   ]
  },
  {
   "cell_type": "code",
   "execution_count": null,
   "metadata": {
    "collapsed": true
   },
   "outputs": [],
   "source": []
  }
 ],
 "metadata": {
  "kernelspec": {
   "display_name": "Python 2",
   "language": "python",
   "name": "python2"
  },
  "language_info": {
   "codemirror_mode": {
    "name": "ipython",
    "version": 2
   },
   "file_extension": ".py",
   "mimetype": "text/x-python",
   "name": "python",
   "nbconvert_exporter": "python",
   "pygments_lexer": "ipython2",
   "version": "2.7.13"
  }
 },
 "nbformat": 4,
 "nbformat_minor": 2
}
